{
  "metadata": {
    "toc-autonumbering": true,
    "language_info": {
      "codemirror_mode": {
        "name": "python",
        "version": 3
      },
      "file_extension": ".py",
      "mimetype": "text/x-python",
      "name": "python",
      "nbconvert_exporter": "python",
      "pygments_lexer": "ipython3",
      "version": "3.8"
    },
    "kernelspec": {
      "name": "python",
      "display_name": "Python (Pyodide)",
      "language": "python"
    }
  },
  "nbformat_minor": 4,
  "nbformat": 4,
  "cells": [
    {
      "cell_type": "code",
      "source": "import pandas as pd\nimport numpy as np\nimport matplotlib.pyplot as plt",
      "metadata": {
        "trusted": true
      },
      "execution_count": 2,
      "outputs": []
    },
    {
      "cell_type": "code",
      "source": "dailyactivity = pd.read_csv('dailyActivity_merged.csv')\ndailycalories = pd.read_csv('dailyCalories_merged.csv')\ndailyintensities = pd.read_csv('dailyIntensities_merged.csv')\ndailysteps = pd.read_csv('dailySteps_merged.csv')\nheartrate = pd.read_csv('heartrate_seconds_merged.csv')\nhourlycalroeis = pd.read_csv('hourlyCalories_merged.csv')\nhourlyintensities = pd.read_csv('hourlyIntensities_merged.csv')\nhourlysteps = pd.read_csv('hourlySteps_merged.csv')\ncaloriesnarrow = pd.read_csv('minuteCaloriesNarrow_merged.csv')\ncalorieswide = pd.read_csv('minuteCaloriesWide_merged.csv')\nintensitiesnarrow = pd.read_csv('minuteIntensitiesNarrow_merged.csv')\nintensitieswide = pd.read_csv('minuteIntensitiesWide_merged.csv')\nmetsnarrow = pd.read_csv('minuteMETsNarrow_merged.csv')\nminutesleep = pd.read_csv('minuteSleep_merged.csv')\nminutestepsnarrow = pd.read_csv('minuteStepsNarrow_merged.csv')\nminutestepswide = pd.read_csv('minuteStepsWide_merged.csv')\nsleepday = pd.read_csv('sleepDay_merged.csv')\nweightloginfo = pd.read_csv('weightLogInfo_merged.csv')",
      "metadata": {
        "trusted": true
      },
      "execution_count": 7,
      "outputs": []
    },
    {
      "cell_type": "markdown",
      "source": "Daily Activity File",
      "metadata": {}
    },
    {
      "cell_type": "code",
      "source": "dailyactivity.head(5)",
      "metadata": {
        "trusted": true
      },
      "execution_count": 8,
      "outputs": [
        {
          "execution_count": 8,
          "output_type": "execute_result",
          "data": {
            "text/plain": "           Id ActivityDate  TotalSteps  TotalDistance  TrackerDistance  \\\n0  1503960366    4/12/2016       13162           8.50             8.50   \n1  1503960366    4/13/2016       10735           6.97             6.97   \n2  1503960366    4/14/2016       10460           6.74             6.74   \n3  1503960366    4/15/2016        9762           6.28             6.28   \n4  1503960366    4/16/2016       12669           8.16             8.16   \n\n   LoggedActivitiesDistance  VeryActiveDistance  ModeratelyActiveDistance  \\\n0                       0.0                1.88                      0.55   \n1                       0.0                1.57                      0.69   \n2                       0.0                2.44                      0.40   \n3                       0.0                2.14                      1.26   \n4                       0.0                2.71                      0.41   \n\n   LightActiveDistance  SedentaryActiveDistance  VeryActiveMinutes  \\\n0                 6.06                      0.0                 25   \n1                 4.71                      0.0                 21   \n2                 3.91                      0.0                 30   \n3                 2.83                      0.0                 29   \n4                 5.04                      0.0                 36   \n\n   FairlyActiveMinutes  LightlyActiveMinutes  SedentaryMinutes  Calories  \n0                   13                   328               728      1985  \n1                   19                   217               776      1797  \n2                   11                   181              1218      1776  \n3                   34                   209               726      1745  \n4                   10                   221               773      1863  ",
            "text/html": "<div>\n<style scoped>\n    .dataframe tbody tr th:only-of-type {\n        vertical-align: middle;\n    }\n\n    .dataframe tbody tr th {\n        vertical-align: top;\n    }\n\n    .dataframe thead th {\n        text-align: right;\n    }\n</style>\n<table border=\"1\" class=\"dataframe\">\n  <thead>\n    <tr style=\"text-align: right;\">\n      <th></th>\n      <th>Id</th>\n      <th>ActivityDate</th>\n      <th>TotalSteps</th>\n      <th>TotalDistance</th>\n      <th>TrackerDistance</th>\n      <th>LoggedActivitiesDistance</th>\n      <th>VeryActiveDistance</th>\n      <th>ModeratelyActiveDistance</th>\n      <th>LightActiveDistance</th>\n      <th>SedentaryActiveDistance</th>\n      <th>VeryActiveMinutes</th>\n      <th>FairlyActiveMinutes</th>\n      <th>LightlyActiveMinutes</th>\n      <th>SedentaryMinutes</th>\n      <th>Calories</th>\n    </tr>\n  </thead>\n  <tbody>\n    <tr>\n      <th>0</th>\n      <td>1503960366</td>\n      <td>4/12/2016</td>\n      <td>13162</td>\n      <td>8.50</td>\n      <td>8.50</td>\n      <td>0.0</td>\n      <td>1.88</td>\n      <td>0.55</td>\n      <td>6.06</td>\n      <td>0.0</td>\n      <td>25</td>\n      <td>13</td>\n      <td>328</td>\n      <td>728</td>\n      <td>1985</td>\n    </tr>\n    <tr>\n      <th>1</th>\n      <td>1503960366</td>\n      <td>4/13/2016</td>\n      <td>10735</td>\n      <td>6.97</td>\n      <td>6.97</td>\n      <td>0.0</td>\n      <td>1.57</td>\n      <td>0.69</td>\n      <td>4.71</td>\n      <td>0.0</td>\n      <td>21</td>\n      <td>19</td>\n      <td>217</td>\n      <td>776</td>\n      <td>1797</td>\n    </tr>\n    <tr>\n      <th>2</th>\n      <td>1503960366</td>\n      <td>4/14/2016</td>\n      <td>10460</td>\n      <td>6.74</td>\n      <td>6.74</td>\n      <td>0.0</td>\n      <td>2.44</td>\n      <td>0.40</td>\n      <td>3.91</td>\n      <td>0.0</td>\n      <td>30</td>\n      <td>11</td>\n      <td>181</td>\n      <td>1218</td>\n      <td>1776</td>\n    </tr>\n    <tr>\n      <th>3</th>\n      <td>1503960366</td>\n      <td>4/15/2016</td>\n      <td>9762</td>\n      <td>6.28</td>\n      <td>6.28</td>\n      <td>0.0</td>\n      <td>2.14</td>\n      <td>1.26</td>\n      <td>2.83</td>\n      <td>0.0</td>\n      <td>29</td>\n      <td>34</td>\n      <td>209</td>\n      <td>726</td>\n      <td>1745</td>\n    </tr>\n    <tr>\n      <th>4</th>\n      <td>1503960366</td>\n      <td>4/16/2016</td>\n      <td>12669</td>\n      <td>8.16</td>\n      <td>8.16</td>\n      <td>0.0</td>\n      <td>2.71</td>\n      <td>0.41</td>\n      <td>5.04</td>\n      <td>0.0</td>\n      <td>36</td>\n      <td>10</td>\n      <td>221</td>\n      <td>773</td>\n      <td>1863</td>\n    </tr>\n  </tbody>\n</table>\n</div>"
          },
          "metadata": {}
        }
      ]
    },
    {
      "cell_type": "code",
      "source": "dailyactivity.info()",
      "metadata": {
        "trusted": true
      },
      "execution_count": 10,
      "outputs": [
        {
          "name": "stdout",
          "text": "<class 'pandas.core.frame.DataFrame'>\nRangeIndex: 940 entries, 0 to 939\nData columns (total 15 columns):\n #   Column                    Non-Null Count  Dtype  \n---  ------                    --------------  -----  \n 0   Id                        940 non-null    int64  \n 1   ActivityDate              940 non-null    object \n 2   TotalSteps                940 non-null    int64  \n 3   TotalDistance             940 non-null    float64\n 4   TrackerDistance           940 non-null    float64\n 5   LoggedActivitiesDistance  940 non-null    float64\n 6   VeryActiveDistance        940 non-null    float64\n 7   ModeratelyActiveDistance  940 non-null    float64\n 8   LightActiveDistance       940 non-null    float64\n 9   SedentaryActiveDistance   940 non-null    float64\n 10  VeryActiveMinutes         940 non-null    int64  \n 11  FairlyActiveMinutes       940 non-null    int64  \n 12  LightlyActiveMinutes      940 non-null    int64  \n 13  SedentaryMinutes          940 non-null    int64  \n 14  Calories                  940 non-null    int64  \ndtypes: float64(7), int64(7), object(1)\nmemory usage: 106.6+ KB\n",
          "output_type": "stream"
        }
      ]
    },
    {
      "cell_type": "code",
      "source": "dailyactivity['ActivityDate'] = pd.to_datetime(dailyactivity['ActivityDate'])",
      "metadata": {
        "trusted": true
      },
      "execution_count": 19,
      "outputs": []
    },
    {
      "cell_type": "code",
      "source": "dailyactivity.info()",
      "metadata": {
        "trusted": true
      },
      "execution_count": 20,
      "outputs": [
        {
          "name": "stdout",
          "text": "<class 'pandas.core.frame.DataFrame'>\nRangeIndex: 940 entries, 0 to 939\nData columns (total 15 columns):\n #   Column                    Non-Null Count  Dtype         \n---  ------                    --------------  -----         \n 0   Id                        940 non-null    int64         \n 1   ActivityDate              940 non-null    datetime64[ns]\n 2   TotalSteps                940 non-null    int64         \n 3   TotalDistance             940 non-null    float64       \n 4   TrackerDistance           940 non-null    float64       \n 5   LoggedActivitiesDistance  940 non-null    float64       \n 6   VeryActiveDistance        940 non-null    float64       \n 7   ModeratelyActiveDistance  940 non-null    float64       \n 8   LightActiveDistance       940 non-null    float64       \n 9   SedentaryActiveDistance   940 non-null    float64       \n 10  VeryActiveMinutes         940 non-null    int64         \n 11  FairlyActiveMinutes       940 non-null    int64         \n 12  LightlyActiveMinutes      940 non-null    int64         \n 13  SedentaryMinutes          940 non-null    int64         \n 14  Calories                  940 non-null    int64         \ndtypes: datetime64[ns](1), float64(7), int64(7)\nmemory usage: 110.2 KB\n",
          "output_type": "stream"
        }
      ]
    },
    {
      "cell_type": "code",
      "source": "dailyactivity['Id'].nunique()",
      "metadata": {
        "trusted": true
      },
      "execution_count": 18,
      "outputs": [
        {
          "execution_count": 18,
          "output_type": "execute_result",
          "data": {
            "text/plain": "33"
          },
          "metadata": {}
        }
      ]
    },
    {
      "cell_type": "code",
      "source": "dailyactivity['Id'].value_counts()",
      "metadata": {
        "trusted": true
      },
      "execution_count": 16,
      "outputs": [
        {
          "execution_count": 16,
          "output_type": "execute_result",
          "data": {
            "text/plain": "1503960366    31\n4319703577    31\n8583815059    31\n8378563200    31\n8053475328    31\n7086361926    31\n6962181067    31\n5553957443    31\n4702921684    31\n4558609924    31\n1624580081    31\n4388161847    31\n4445114986    31\n8877689391    31\n1927972279    31\n2873212765    31\n2320127002    31\n4020332650    31\n2026352035    31\n1844505072    31\n2022484408    31\n3977333714    30\n1644430081    30\n5577150313    30\n8792009665    29\n6290855005    29\n6117666160    28\n6775888955    26\n7007744171    26\n3372868164    20\n8253242879    19\n2347167796    18\n4057192912     4\nName: Id, dtype: int64"
          },
          "metadata": {}
        }
      ]
    },
    {
      "cell_type": "code",
      "source": "dailyactivity.describe()",
      "metadata": {
        "trusted": true
      },
      "execution_count": 21,
      "outputs": [
        {
          "execution_count": 21,
          "output_type": "execute_result",
          "data": {
            "text/plain": "                 Id    TotalSteps  TotalDistance  TrackerDistance  \\\ncount  9.400000e+02    940.000000     940.000000       940.000000   \nmean   4.855407e+09   7637.910638       5.489702         5.475351   \nstd    2.424805e+09   5087.150742       3.924606         3.907276   \nmin    1.503960e+09      0.000000       0.000000         0.000000   \n25%    2.320127e+09   3789.750000       2.620000         2.620000   \n50%    4.445115e+09   7405.500000       5.245000         5.245000   \n75%    6.962181e+09  10727.000000       7.712500         7.710000   \nmax    8.877689e+09  36019.000000      28.030001        28.030001   \n\n       LoggedActivitiesDistance  VeryActiveDistance  ModeratelyActiveDistance  \\\ncount                940.000000          940.000000                940.000000   \nmean                   0.108171            1.502681                  0.567543   \nstd                    0.619897            2.658941                  0.883580   \nmin                    0.000000            0.000000                  0.000000   \n25%                    0.000000            0.000000                  0.000000   \n50%                    0.000000            0.210000                  0.240000   \n75%                    0.000000            2.052500                  0.800000   \nmax                    4.942142           21.920000                  6.480000   \n\n       LightActiveDistance  SedentaryActiveDistance  VeryActiveMinutes  \\\ncount           940.000000               940.000000         940.000000   \nmean              3.340819                 0.001606          21.164894   \nstd               2.040655                 0.007346          32.844803   \nmin               0.000000                 0.000000           0.000000   \n25%               1.945000                 0.000000           0.000000   \n50%               3.365000                 0.000000           4.000000   \n75%               4.782500                 0.000000          32.000000   \nmax              10.710000                 0.110000         210.000000   \n\n       FairlyActiveMinutes  LightlyActiveMinutes  SedentaryMinutes  \\\ncount           940.000000            940.000000        940.000000   \nmean             13.564894            192.812766        991.210638   \nstd              19.987404            109.174700        301.267437   \nmin               0.000000              0.000000          0.000000   \n25%               0.000000            127.000000        729.750000   \n50%               6.000000            199.000000       1057.500000   \n75%              19.000000            264.000000       1229.500000   \nmax             143.000000            518.000000       1440.000000   \n\n          Calories  \ncount   940.000000  \nmean   2303.609574  \nstd     718.166862  \nmin       0.000000  \n25%    1828.500000  \n50%    2134.000000  \n75%    2793.250000  \nmax    4900.000000  ",
            "text/html": "<div>\n<style scoped>\n    .dataframe tbody tr th:only-of-type {\n        vertical-align: middle;\n    }\n\n    .dataframe tbody tr th {\n        vertical-align: top;\n    }\n\n    .dataframe thead th {\n        text-align: right;\n    }\n</style>\n<table border=\"1\" class=\"dataframe\">\n  <thead>\n    <tr style=\"text-align: right;\">\n      <th></th>\n      <th>Id</th>\n      <th>TotalSteps</th>\n      <th>TotalDistance</th>\n      <th>TrackerDistance</th>\n      <th>LoggedActivitiesDistance</th>\n      <th>VeryActiveDistance</th>\n      <th>ModeratelyActiveDistance</th>\n      <th>LightActiveDistance</th>\n      <th>SedentaryActiveDistance</th>\n      <th>VeryActiveMinutes</th>\n      <th>FairlyActiveMinutes</th>\n      <th>LightlyActiveMinutes</th>\n      <th>SedentaryMinutes</th>\n      <th>Calories</th>\n    </tr>\n  </thead>\n  <tbody>\n    <tr>\n      <th>count</th>\n      <td>9.400000e+02</td>\n      <td>940.000000</td>\n      <td>940.000000</td>\n      <td>940.000000</td>\n      <td>940.000000</td>\n      <td>940.000000</td>\n      <td>940.000000</td>\n      <td>940.000000</td>\n      <td>940.000000</td>\n      <td>940.000000</td>\n      <td>940.000000</td>\n      <td>940.000000</td>\n      <td>940.000000</td>\n      <td>940.000000</td>\n    </tr>\n    <tr>\n      <th>mean</th>\n      <td>4.855407e+09</td>\n      <td>7637.910638</td>\n      <td>5.489702</td>\n      <td>5.475351</td>\n      <td>0.108171</td>\n      <td>1.502681</td>\n      <td>0.567543</td>\n      <td>3.340819</td>\n      <td>0.001606</td>\n      <td>21.164894</td>\n      <td>13.564894</td>\n      <td>192.812766</td>\n      <td>991.210638</td>\n      <td>2303.609574</td>\n    </tr>\n    <tr>\n      <th>std</th>\n      <td>2.424805e+09</td>\n      <td>5087.150742</td>\n      <td>3.924606</td>\n      <td>3.907276</td>\n      <td>0.619897</td>\n      <td>2.658941</td>\n      <td>0.883580</td>\n      <td>2.040655</td>\n      <td>0.007346</td>\n      <td>32.844803</td>\n      <td>19.987404</td>\n      <td>109.174700</td>\n      <td>301.267437</td>\n      <td>718.166862</td>\n    </tr>\n    <tr>\n      <th>min</th>\n      <td>1.503960e+09</td>\n      <td>0.000000</td>\n      <td>0.000000</td>\n      <td>0.000000</td>\n      <td>0.000000</td>\n      <td>0.000000</td>\n      <td>0.000000</td>\n      <td>0.000000</td>\n      <td>0.000000</td>\n      <td>0.000000</td>\n      <td>0.000000</td>\n      <td>0.000000</td>\n      <td>0.000000</td>\n      <td>0.000000</td>\n    </tr>\n    <tr>\n      <th>25%</th>\n      <td>2.320127e+09</td>\n      <td>3789.750000</td>\n      <td>2.620000</td>\n      <td>2.620000</td>\n      <td>0.000000</td>\n      <td>0.000000</td>\n      <td>0.000000</td>\n      <td>1.945000</td>\n      <td>0.000000</td>\n      <td>0.000000</td>\n      <td>0.000000</td>\n      <td>127.000000</td>\n      <td>729.750000</td>\n      <td>1828.500000</td>\n    </tr>\n    <tr>\n      <th>50%</th>\n      <td>4.445115e+09</td>\n      <td>7405.500000</td>\n      <td>5.245000</td>\n      <td>5.245000</td>\n      <td>0.000000</td>\n      <td>0.210000</td>\n      <td>0.240000</td>\n      <td>3.365000</td>\n      <td>0.000000</td>\n      <td>4.000000</td>\n      <td>6.000000</td>\n      <td>199.000000</td>\n      <td>1057.500000</td>\n      <td>2134.000000</td>\n    </tr>\n    <tr>\n      <th>75%</th>\n      <td>6.962181e+09</td>\n      <td>10727.000000</td>\n      <td>7.712500</td>\n      <td>7.710000</td>\n      <td>0.000000</td>\n      <td>2.052500</td>\n      <td>0.800000</td>\n      <td>4.782500</td>\n      <td>0.000000</td>\n      <td>32.000000</td>\n      <td>19.000000</td>\n      <td>264.000000</td>\n      <td>1229.500000</td>\n      <td>2793.250000</td>\n    </tr>\n    <tr>\n      <th>max</th>\n      <td>8.877689e+09</td>\n      <td>36019.000000</td>\n      <td>28.030001</td>\n      <td>28.030001</td>\n      <td>4.942142</td>\n      <td>21.920000</td>\n      <td>6.480000</td>\n      <td>10.710000</td>\n      <td>0.110000</td>\n      <td>210.000000</td>\n      <td>143.000000</td>\n      <td>518.000000</td>\n      <td>1440.000000</td>\n      <td>4900.000000</td>\n    </tr>\n  </tbody>\n</table>\n</div>"
          },
          "metadata": {}
        }
      ]
    },
    {
      "cell_type": "code",
      "source": "dailyactivity['weekday'] = dailyactivity['ActivityDate'].dt.weekday\ndailyactivity.head(3)",
      "metadata": {
        "trusted": true
      },
      "execution_count": 23,
      "outputs": [
        {
          "execution_count": 23,
          "output_type": "execute_result",
          "data": {
            "text/plain": "           Id ActivityDate  TotalSteps  TotalDistance  TrackerDistance  \\\n0  1503960366   2016-04-12       13162           8.50             8.50   \n1  1503960366   2016-04-13       10735           6.97             6.97   \n2  1503960366   2016-04-14       10460           6.74             6.74   \n\n   LoggedActivitiesDistance  VeryActiveDistance  ModeratelyActiveDistance  \\\n0                       0.0                1.88                      0.55   \n1                       0.0                1.57                      0.69   \n2                       0.0                2.44                      0.40   \n\n   LightActiveDistance  SedentaryActiveDistance  VeryActiveMinutes  \\\n0                 6.06                      0.0                 25   \n1                 4.71                      0.0                 21   \n2                 3.91                      0.0                 30   \n\n   FairlyActiveMinutes  LightlyActiveMinutes  SedentaryMinutes  Calories  \\\n0                   13                   328               728      1985   \n1                   19                   217               776      1797   \n2                   11                   181              1218      1776   \n\n   weekday  \n0        1  \n1        2  \n2        3  ",
            "text/html": "<div>\n<style scoped>\n    .dataframe tbody tr th:only-of-type {\n        vertical-align: middle;\n    }\n\n    .dataframe tbody tr th {\n        vertical-align: top;\n    }\n\n    .dataframe thead th {\n        text-align: right;\n    }\n</style>\n<table border=\"1\" class=\"dataframe\">\n  <thead>\n    <tr style=\"text-align: right;\">\n      <th></th>\n      <th>Id</th>\n      <th>ActivityDate</th>\n      <th>TotalSteps</th>\n      <th>TotalDistance</th>\n      <th>TrackerDistance</th>\n      <th>LoggedActivitiesDistance</th>\n      <th>VeryActiveDistance</th>\n      <th>ModeratelyActiveDistance</th>\n      <th>LightActiveDistance</th>\n      <th>SedentaryActiveDistance</th>\n      <th>VeryActiveMinutes</th>\n      <th>FairlyActiveMinutes</th>\n      <th>LightlyActiveMinutes</th>\n      <th>SedentaryMinutes</th>\n      <th>Calories</th>\n      <th>weekday</th>\n    </tr>\n  </thead>\n  <tbody>\n    <tr>\n      <th>0</th>\n      <td>1503960366</td>\n      <td>2016-04-12</td>\n      <td>13162</td>\n      <td>8.50</td>\n      <td>8.50</td>\n      <td>0.0</td>\n      <td>1.88</td>\n      <td>0.55</td>\n      <td>6.06</td>\n      <td>0.0</td>\n      <td>25</td>\n      <td>13</td>\n      <td>328</td>\n      <td>728</td>\n      <td>1985</td>\n      <td>1</td>\n    </tr>\n    <tr>\n      <th>1</th>\n      <td>1503960366</td>\n      <td>2016-04-13</td>\n      <td>10735</td>\n      <td>6.97</td>\n      <td>6.97</td>\n      <td>0.0</td>\n      <td>1.57</td>\n      <td>0.69</td>\n      <td>4.71</td>\n      <td>0.0</td>\n      <td>21</td>\n      <td>19</td>\n      <td>217</td>\n      <td>776</td>\n      <td>1797</td>\n      <td>2</td>\n    </tr>\n    <tr>\n      <th>2</th>\n      <td>1503960366</td>\n      <td>2016-04-14</td>\n      <td>10460</td>\n      <td>6.74</td>\n      <td>6.74</td>\n      <td>0.0</td>\n      <td>2.44</td>\n      <td>0.40</td>\n      <td>3.91</td>\n      <td>0.0</td>\n      <td>30</td>\n      <td>11</td>\n      <td>181</td>\n      <td>1218</td>\n      <td>1776</td>\n      <td>3</td>\n    </tr>\n  </tbody>\n</table>\n</div>"
          },
          "metadata": {}
        }
      ]
    },
    {
      "cell_type": "code",
      "source": "dailycalories.head(3)",
      "metadata": {
        "trusted": true
      },
      "execution_count": 24,
      "outputs": [
        {
          "execution_count": 24,
          "output_type": "execute_result",
          "data": {
            "text/plain": "           Id ActivityDay  Calories\n0  1503960366   4/12/2016      1985\n1  1503960366   4/13/2016      1797\n2  1503960366   4/14/2016      1776",
            "text/html": "<div>\n<style scoped>\n    .dataframe tbody tr th:only-of-type {\n        vertical-align: middle;\n    }\n\n    .dataframe tbody tr th {\n        vertical-align: top;\n    }\n\n    .dataframe thead th {\n        text-align: right;\n    }\n</style>\n<table border=\"1\" class=\"dataframe\">\n  <thead>\n    <tr style=\"text-align: right;\">\n      <th></th>\n      <th>Id</th>\n      <th>ActivityDay</th>\n      <th>Calories</th>\n    </tr>\n  </thead>\n  <tbody>\n    <tr>\n      <th>0</th>\n      <td>1503960366</td>\n      <td>4/12/2016</td>\n      <td>1985</td>\n    </tr>\n    <tr>\n      <th>1</th>\n      <td>1503960366</td>\n      <td>4/13/2016</td>\n      <td>1797</td>\n    </tr>\n    <tr>\n      <th>2</th>\n      <td>1503960366</td>\n      <td>4/14/2016</td>\n      <td>1776</td>\n    </tr>\n  </tbody>\n</table>\n</div>"
          },
          "metadata": {}
        }
      ]
    },
    {
      "cell_type": "code",
      "source": "dailyintensities.head(3)",
      "metadata": {
        "trusted": true
      },
      "execution_count": 25,
      "outputs": [
        {
          "execution_count": 25,
          "output_type": "execute_result",
          "data": {
            "text/plain": "           Id ActivityDay  SedentaryMinutes  LightlyActiveMinutes  \\\n0  1503960366   4/12/2016               728                   328   \n1  1503960366   4/13/2016               776                   217   \n2  1503960366   4/14/2016              1218                   181   \n\n   FairlyActiveMinutes  VeryActiveMinutes  SedentaryActiveDistance  \\\n0                   13                 25                      0.0   \n1                   19                 21                      0.0   \n2                   11                 30                      0.0   \n\n   LightActiveDistance  ModeratelyActiveDistance  VeryActiveDistance  \n0                 6.06                      0.55                1.88  \n1                 4.71                      0.69                1.57  \n2                 3.91                      0.40                2.44  ",
            "text/html": "<div>\n<style scoped>\n    .dataframe tbody tr th:only-of-type {\n        vertical-align: middle;\n    }\n\n    .dataframe tbody tr th {\n        vertical-align: top;\n    }\n\n    .dataframe thead th {\n        text-align: right;\n    }\n</style>\n<table border=\"1\" class=\"dataframe\">\n  <thead>\n    <tr style=\"text-align: right;\">\n      <th></th>\n      <th>Id</th>\n      <th>ActivityDay</th>\n      <th>SedentaryMinutes</th>\n      <th>LightlyActiveMinutes</th>\n      <th>FairlyActiveMinutes</th>\n      <th>VeryActiveMinutes</th>\n      <th>SedentaryActiveDistance</th>\n      <th>LightActiveDistance</th>\n      <th>ModeratelyActiveDistance</th>\n      <th>VeryActiveDistance</th>\n    </tr>\n  </thead>\n  <tbody>\n    <tr>\n      <th>0</th>\n      <td>1503960366</td>\n      <td>4/12/2016</td>\n      <td>728</td>\n      <td>328</td>\n      <td>13</td>\n      <td>25</td>\n      <td>0.0</td>\n      <td>6.06</td>\n      <td>0.55</td>\n      <td>1.88</td>\n    </tr>\n    <tr>\n      <th>1</th>\n      <td>1503960366</td>\n      <td>4/13/2016</td>\n      <td>776</td>\n      <td>217</td>\n      <td>19</td>\n      <td>21</td>\n      <td>0.0</td>\n      <td>4.71</td>\n      <td>0.69</td>\n      <td>1.57</td>\n    </tr>\n    <tr>\n      <th>2</th>\n      <td>1503960366</td>\n      <td>4/14/2016</td>\n      <td>1218</td>\n      <td>181</td>\n      <td>11</td>\n      <td>30</td>\n      <td>0.0</td>\n      <td>3.91</td>\n      <td>0.40</td>\n      <td>2.44</td>\n    </tr>\n  </tbody>\n</table>\n</div>"
          },
          "metadata": {}
        }
      ]
    },
    {
      "cell_type": "code",
      "source": "dailysteps.head(3)",
      "metadata": {
        "trusted": true
      },
      "execution_count": 26,
      "outputs": [
        {
          "execution_count": 26,
          "output_type": "execute_result",
          "data": {
            "text/plain": "           Id ActivityDay  StepTotal\n0  1503960366   4/12/2016      13162\n1  1503960366   4/13/2016      10735\n2  1503960366   4/14/2016      10460",
            "text/html": "<div>\n<style scoped>\n    .dataframe tbody tr th:only-of-type {\n        vertical-align: middle;\n    }\n\n    .dataframe tbody tr th {\n        vertical-align: top;\n    }\n\n    .dataframe thead th {\n        text-align: right;\n    }\n</style>\n<table border=\"1\" class=\"dataframe\">\n  <thead>\n    <tr style=\"text-align: right;\">\n      <th></th>\n      <th>Id</th>\n      <th>ActivityDay</th>\n      <th>StepTotal</th>\n    </tr>\n  </thead>\n  <tbody>\n    <tr>\n      <th>0</th>\n      <td>1503960366</td>\n      <td>4/12/2016</td>\n      <td>13162</td>\n    </tr>\n    <tr>\n      <th>1</th>\n      <td>1503960366</td>\n      <td>4/13/2016</td>\n      <td>10735</td>\n    </tr>\n    <tr>\n      <th>2</th>\n      <td>1503960366</td>\n      <td>4/14/2016</td>\n      <td>10460</td>\n    </tr>\n  </tbody>\n</table>\n</div>"
          },
          "metadata": {}
        }
      ]
    },
    {
      "cell_type": "code",
      "source": "heartrate.head(3)",
      "metadata": {
        "trusted": true
      },
      "execution_count": 27,
      "outputs": [
        {
          "execution_count": 27,
          "output_type": "execute_result",
          "data": {
            "text/plain": "        89391  5/10/2016 6:45:44 PM  65\n0  8877689391  5/10/2016 6:45:59 PM  65\n1  8877689391  5/10/2016 6:46:09 PM  65\n2  8877689391  5/10/2016 6:46:19 PM  65",
            "text/html": "<div>\n<style scoped>\n    .dataframe tbody tr th:only-of-type {\n        vertical-align: middle;\n    }\n\n    .dataframe tbody tr th {\n        vertical-align: top;\n    }\n\n    .dataframe thead th {\n        text-align: right;\n    }\n</style>\n<table border=\"1\" class=\"dataframe\">\n  <thead>\n    <tr style=\"text-align: right;\">\n      <th></th>\n      <th>89391</th>\n      <th>5/10/2016 6:45:44 PM</th>\n      <th>65</th>\n    </tr>\n  </thead>\n  <tbody>\n    <tr>\n      <th>0</th>\n      <td>8877689391</td>\n      <td>5/10/2016 6:45:59 PM</td>\n      <td>65</td>\n    </tr>\n    <tr>\n      <th>1</th>\n      <td>8877689391</td>\n      <td>5/10/2016 6:46:09 PM</td>\n      <td>65</td>\n    </tr>\n    <tr>\n      <th>2</th>\n      <td>8877689391</td>\n      <td>5/10/2016 6:46:19 PM</td>\n      <td>65</td>\n    </tr>\n  </tbody>\n</table>\n</div>"
          },
          "metadata": {}
        }
      ]
    },
    {
      "cell_type": "code",
      "source": "",
      "metadata": {},
      "execution_count": null,
      "outputs": []
    }
  ]
}